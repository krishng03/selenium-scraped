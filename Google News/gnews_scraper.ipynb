{
 "cells": [
  {
   "cell_type": "code",
   "execution_count": null,
   "metadata": {},
   "outputs": [],
   "source": [
    "%pip freeze"
   ]
  },
  {
   "cell_type": "code",
   "execution_count": null,
   "metadata": {},
   "outputs": [],
   "source": [
    "from selenium import webdriver\n",
    "from selenium.webdriver.common.by import By\n",
    "from selenium.webdriver.chrome.service import Service\n",
    "from selenium.webdriver.chrome.options import Options\n",
    "from selenium.webdriver.support.ui import WebDriverWait\n",
    "from selenium.webdriver.support import expected_conditions as EC\n",
    "from webdriver_manager.chrome import ChromeDriverManager"
   ]
  },
  {
   "cell_type": "code",
   "execution_count": null,
   "metadata": {},
   "outputs": [],
   "source": [
    "def setup_driver():\n",
    "    options = Options()\n",
    "    options.add_argument(\"--headless\")\n",
    "    options.add_argument(\"--disable-gpu\")\n",
    "    options.add_argument(\"--window-size=1920,1080\")\n",
    "    service = Service(ChromeDriverManager().install())\n",
    "    driver = webdriver.Chrome(service=service, options=options)\n",
    "    return driver"
   ]
  },
  {
   "cell_type": "code",
   "execution_count": null,
   "metadata": {},
   "outputs": [],
   "source": [
    "BASE_URL = 'https://news.google.com/search?q='"
   ]
  },
  {
   "cell_type": "code",
   "execution_count": 47,
   "metadata": {},
   "outputs": [],
   "source": [
    "def get_news_articles(query, limit=10):\n",
    "    query = query.replace(' ', '+')\n",
    "    driver = setup_driver()\n",
    "    driver.get(BASE_URL + query)\n",
    "    WebDriverWait(driver, 10).until(\n",
    "        EC.presence_of_element_located((By.TAG_NAME, 'article'))\n",
    "    )\n",
    "\n",
    "    DATA = []\n",
    "\n",
    "    articles = driver.find_elements(By.TAG_NAME, 'article')\n",
    "\n",
    "    for i in range(limit):\n",
    "        article = articles[i].find_elements(By.TAG_NAME, 'a')\n",
    "        article_heading = article[-1].text\n",
    "        article_url = article[-1].get_attribute('href')\n",
    "        article_source = articles[i].find_element(By.CSS_SELECTOR, 'div.vr1PYe').text\n",
    "        article_img_src = articles[i].find_element(By.CSS_SELECTOR, 'figure img').get_attribute('src')\n",
    "        article_object = {\n",
    "            'article_name': article_heading,\n",
    "            'article_source': article_source,\n",
    "            'article_url': article_url,\n",
    "            'article_img_src': article_img_src\n",
    "        }\n",
    "        DATA.append(article_object)\n",
    "    \n",
    "    driver.quit()\n",
    "    return DATA"
   ]
  },
  {
   "cell_type": "code",
   "execution_count": 48,
   "metadata": {},
   "outputs": [],
   "source": [
    "query_param = 'artificial intelligence'\n",
    "\n",
    "article_data = get_news_articles(query_param)"
   ]
  },
  {
   "cell_type": "code",
   "execution_count": 49,
   "metadata": {},
   "outputs": [
    {
     "name": "stdout",
     "output_type": "stream",
     "text": [
      "[{'article_name': 'Army eyes artificial intelligence to enhance future Golden Dome', 'article_source': 'Defense News', 'article_url': 'https://news.google.com/read/CBMisgFBVV95cUxNSmZfMWZKeU1XXzVYZGJBbE83Zm8wbnNKV0MzNjlmUUxzM0RjRnZSUGFRMk5fRlFwVjk2OFB6S1JYa0dGVm5pbl9reHlpUlptdG1fUjB2MTlHTnh3TDhXa1FvaUxJVmR4c0QzamxaYUw5OWRsVG80aE5wdEVRM1ppaHFxZUhvaHl3MDNUQnJPbXo5WjdIdDZYeFo5TWZqVE1uOEJIYXc5X3pOajRCOTZxN0Nn?hl=en-IN&gl=IN&ceid=IN%3Aen', 'article_img_src': 'https://news.google.com/api/attachments/CC8iK0NnNVdUMDVXZUdsamVucFRkbkZRVFJERUF4aW1CU2dLTWdZWk5Jck1uUVU=-w200-h112-p-df-rw'}, {'article_name': 'Cloudflare Using Devilish Trick to Trap AI Scrapers in Infinite Maze of AI-Generated Content', 'article_source': 'Futurism', 'article_url': 'https://news.google.com/read/CBMiY0FVX3lxTFBUN2gxcEg1cGRZNVM3bGJJa3BQOWNiWlAzSXRVS1oyVHZPWEtKTU9tWFBLMHhlU0xJZE9OeUhxc2xra3JtUmJPWFcwMmxXa0Q2b2NCU3duR0pWLWZoek0wNFUyTQ?hl=en-IN&gl=IN&ceid=IN%3Aen', 'article_img_src': 'https://news.google.com/api/attachments/CC8iK0NnNUVabE5CZURsYVRpMUpkV2s1VFJDUkF4ajhCU2dLTWdZcFZZck9wUVk=-w200-h112-p-df-rw'}, {'article_name': 'How artificial intelligence is reshaping personalised learning in 2025', 'article_source': 'India Today', 'article_url': 'https://news.google.com/read/CBMizgFBVV95cUxOcTNfZ2tldFNIMGNjbU1yOXZzZlJHeUVJNndWMjJjRUxQMDEtVjQ4TzBKaUdfODZ1MjBpVFFfLVlzM3ltT0lhWkdsbWdpVEl2T1E0UG5LckpHOXU3VEhHbEhiaWZ4ZklPaDRMM1NEamZkN1A1VzNENllzd3dlc0V5bVRWa1hyM24wNHdtNnBBYXJlWlJaNXZUSGhFYnZYSElaQ1A5VlZxTnF1RG1waG80TXM1bnYzYmNfa0ZPTDVOWFZyLWo1SjZhSUhtT0ZCd9IB0wFBVV95cUxOVWZPMUYzM2JtRF9jZmpudi1qbEFkMk0zaU9WdkpKQjZicjh2dWc5ZGJHZlcyQkdkdERCelB5aUtLLU1CLV9UTHdIMlppRGNEY3N2dGhEaHYwbUVuLURxem9IOHVLZlNSUXNoMkNDTEZKY0NHRDk1UWhaVTFHREpKOTdyallrZGlmMFR0c1V2MzRXajV1ODNBYktjUENDRmVGTmRseG5JVFgyV1hLUGRxZVNaZ09WSi14ZEx3SjF5T2VnRTBYbmp5bFY5VURhb1dQbXN3?hl=en-IN&gl=IN&ceid=IN%3Aen', 'article_img_src': 'https://news.google.com/api/attachments/CC8iL0NnNWlVM2xpUzAwNFIxUlNaREZHVFJDZkF4ampCU2dLTWdrQklJUWd0R1I2YWdJ=-w200-h112-p-df-rw'}, {'article_name': 'OpenAI eases rules on ChatGPT image generation as Ghibli AI trend goes viral', 'article_source': 'The Indian Express', 'article_url': 'https://news.google.com/read/CBMi3gFBVV95cUxOZnUtYk0zRE1UMXpvOHNSRUswQ0ZCejYtb0RWbXJQQkhzMXBSdUpIR1RKbzhrUDM3Q2pFTURjLXVQRHRkZVUtNVJfb1NlRUhDY20xRWFWV29HRTZGdU0wY0xES2JIU1ZCR05NZ3A2ZlFVa05MTndmbUZCNlVFS2R2Z1ZwbjVLQWVHS1piNXNocTRBWEEzbnNuak9hMFJNTkc3Tm51b0lhMjFFQWlNMWpRNlVCZE53Z0F4bC0zcnk2SndTWXkxUnZmMHNxcS1BWXN1TFR2NGV0ZU5wY0M0SkHSAd4BQVVfeXFMTmZ1LWJNM0RNVDF6bzhzUkVLMENGQno2LW9EVm1yUEJIczFwUnVKSEdUSm84a1AzN0NqRU1EYy11UER0ZGVVLTVSX29TZUVIQ2NtMUVhVldvR0U2RnVNMGNMREtiSFNWQkdOTWdwNmZRVWtOTE53Zm1GQjZVRUtkdmdWcG41S0FlR0taYjVzaHE0QVhBM25zbmpPYTBSTU5HN05udW9JYTIxRUFpTTFqUTZVQmROd2dBeGwtM3J5Nkp3U1l5MVJ2ZjBzcXEtQVlzdUxUdjRldGVOcGNDNEpB?hl=en-IN&gl=IN&ceid=IN%3Aen', 'article_img_src': 'https://news.google.com/api/attachments/CC8iK0NnNTZUMHh2YzAxblJUQTBWUzB3VFJDZkF4ampCU2dLTWdZcEZvcnNGUW8=-w200-h112-p-df-rw'}, {'article_name': \"China's Zhipu AI launches free AI agent, intensifying domestic tech race\", 'article_source': 'Reuters', 'article_url': 'https://news.google.com/read/CBMi2AFBVV95cUxPT3pZZm5YUHloUmEyTV82aENqR0dhbFVjSVhXY2dMdGp3TnNMQnNzd2sxLWlLSU9Vb1lpSThrdDREYzZ3UVJQcVVhVnR0N3ZvaFFwTzBabmxxUWdZSWZvRmtiUlI2X2NhTVgySElUYzJDRkhtSzhmZkwyS2lHWGlMaGhIUDI0ZFBHUUFSbU0tS0dnc3VteGpseUxiRmVfdkkzTlBEOVFzeVBGYU9oSXFmeVRUV1RfVWtPM1A4WmxVOC1XbVpsaTZ2enNKUjdwaU5taUJ2VFU1aFc?hl=en-IN&gl=IN&ceid=IN%3Aen', 'article_img_src': 'https://news.google.com/api/attachments/CC8iK0NnNWhSRkp0UTBNMVIxUXliSFZGVFJERUF4aW1CU2dLTWdZVkFwWnFqUXM=-w200-h112-p-df-rw'}, {'article_name': \"'India isn’t for beginners': Redditor claims class 10 student made over ₹1.5 lakh in 2 months building websites using AI\", 'article_source': 'Business Today', 'article_url': 'https://news.google.com/read/CBMikAJBVV95cUxQWHlQMzJETW5PcTl5TXI1MnZ1ODhxSmhsaTZwc2J5TndzWDd5aV9LOW14bFJQdExuNnNEWHYydU4tZWdnSVdJOU9ORUxxeGd4SzVUY3BBQXE0S0ZKYlFFWWJPUXJIcGRFU3g0a0lqWVZnZmtJRk1tR0JhSGszNFdrSEhWVnBDMWdPTlNiUWRPRUp2SU9qbjBrTDJwaVVvdktEYk9jaWt2VGhIc2dUX1oxSEd3RkZGVnNIRnhTNVBMN3BZTUI0b0Y1U2cxVE90d3U2Zng0TWpYMTNTQ0Nja0hqc0N1WHJod3doSjJWdFBxckxMYTQ5VUJJODVjR2xZR284Sl9PRnpXWXRvZXFNRTQ0cQ?hl=en-IN&gl=IN&ceid=IN%3Aen', 'article_img_src': 'https://news.google.com/api/attachments/CC8iK0NnNUhha1JVVWpOYU5FRnFVemhQVFJDZkF4ampCU2dLTWdhMU00aFJvUWM=-w200-h112-p-df-rw'}, {'article_name': 'Elon Musk sells X social media platform to his artificial intelligence startup xAI for $33 billion', 'article_source': 'The Financial Express', 'article_url': 'https://news.google.com/read/CBMi2wFBVV95cUxOYzJUU3BsQ1pZbEhTZDlxUUp4LUtiZmdlal8zcXlLaThBcVRxODFtemxvajN1M1dGaWVJV1NRVk1QNkVTdnlrQThTSUhfRnlNaG81UmJQVlVDblJvYnpYdnVPSWVLM2p6SzlOcGdOUTl6ajljSFlaSW8zbVFWU1VJXzNSOXdtWFNXRnlJVWZOa0RSa19DN2lZQXdZSlljcktDX2MxYW9MZVpZU1JnX1ViY3dHVllKWEVveldtQzZtcmF1eHBhX3NaQU1QMjlvSldTZnFNcTZKcmx6ak0?hl=en-IN&gl=IN&ceid=IN%3Aen', 'article_img_src': 'https://news.google.com/api/attachments/CC8iK0NnNTRWMjlvUWtwdU5IQlNhbHBxVFJERUFSamVBaWdLTWdZUklaN25sQW8=-w200-h112-p-df-rw'}, {'article_name': 'How to Pronounce: Stress and listening - Artificial intelligence', 'article_source': 'VOA Learning English', 'article_url': 'https://news.google.com/read/CBMiX0FVX3lxTFBuTXo3LWFncmFGUG9NU202Rm1NNjMteDE3aGtSRHJtNFFTSHBTNklZWkJRVWNEOGdyNzhVZW4weXNRb3V1UTQ3Q2s0eWpEbmNRUmc4SlhSdnFMb2NULXFB0gFiQVVfeXFMUGN4RVE4V2g3c0J3T3hCSXc2a3ZlY0FCQnRhX3dFU1FrT3FhOTVtLWEtaXQzeGM1WS14bW9STzJxYmstOU92VkJoUFRGS2xsRk1zbkxjR001ak4waFVqLWR5eXc?hl=en-IN&gl=IN&ceid=IN%3Aen', 'article_img_src': 'https://news.google.com/api/attachments/CC8iK0NnNHpkekZ5ZERkWk1XbzNUMDFRVFJDZkF4amlCU2dLTWdhbFJJYk96UU0=-w200-h112-p-df-rw'}, {'article_name': \"Artificial intelligence fuels China's high-quality growth\", 'article_source': 'Global Times', 'article_url': 'https://news.google.com/read/CBMiYkFVX3lxTE02XzZsbVczQmVKcHZFS2syd2RQb0NtR2RxdTNOMGJwUWdnWkJlWms5YjF0OWdoWmNMUkFicXotaERrY1puc0FvM05xSkRIVUp1cHZtQmZJdFJYRzRWcFBLbDNn?hl=en-IN&gl=IN&ceid=IN%3Aen', 'article_img_src': 'https://news.google.com/api/attachments/CC8iL0NnNUJNSGxoYjBORFMyZFBjelJxVFJDdUFSaWlBaWdCTWdrRkFveEl1aVZGY1FF=-w200-h112-p-df-rw'}, {'article_name': \"Indian-American executive named to leadership role at Wharton's AI initiative\", 'article_source': 'Hindustan Times', 'article_url': 'https://news.google.com/read/CBMi1AFBVV95cUxQNy0xNTVJRlpnWi05SHlObEhHc0VROWxxbXhKajFxTTBIa3FseHg2MXpXSnE3Q0dZSXBYQ0poNjZWSGV6blhMdUxGcVB3QzVjY3Vyc1RBVDMwV19wbnFKYU96T2pHZkdVbk1MdFh6VzhVQk1ZT2dYS1FqTlUtc2dLN2xnSkxuRHdHUG5BN3cybkI0OXhEekN1cjJNMy1KTUdob0ZNVzYtSm9yaHI3U0pIQTZGRjMyNnVUdFVrejNrS1puYUY3ZFhZYU9zUFl0S0tXRTdVVA?hl=en-IN&gl=IN&ceid=IN%3Aen', 'article_img_src': 'https://news.google.com/api/attachments/CC8iK0NnNVRjR0Y0VG1OVE5tTjJOVTAxVFJDMUFoaW1CQ2dLTWdZcFpwRHRxUWM=-w200-h112-p-df-rw'}]\n"
     ]
    }
   ],
   "source": [
    "print(article_data)"
   ]
  },
  {
   "cell_type": "code",
   "execution_count": 50,
   "metadata": {},
   "outputs": [
    {
     "name": "stdout",
     "output_type": "stream",
     "text": [
      "JSON file saved successfully\n"
     ]
    }
   ],
   "source": [
    "import json\n",
    "\n",
    "JSON_FILE_NAME = 'gnews_articles.json'\n",
    "\n",
    "with open(JSON_FILE_NAME, 'w') as file:\n",
    "    json.dump(article_data, file, indent=2)\n",
    "\n",
    "print('JSON file saved successfully')"
   ]
  },
  {
   "cell_type": "code",
   "execution_count": 51,
   "metadata": {},
   "outputs": [
    {
     "name": "stdout",
     "output_type": "stream",
     "text": [
      "CSV file saved successfully\n"
     ]
    }
   ],
   "source": [
    "import pandas as pd\n",
    "\n",
    "CSV_FILE_NAME = 'gnews_articles.csv'\n",
    "\n",
    "df = pd.DataFrame(article_data)\n",
    "\n",
    "df.to_csv(CSV_FILE_NAME, index=False)\n",
    "\n",
    "print(\"CSV file saved successfully\")"
   ]
  }
 ],
 "metadata": {
  "kernelspec": {
   "display_name": "venv",
   "language": "python",
   "name": "python3"
  },
  "language_info": {
   "codemirror_mode": {
    "name": "ipython",
    "version": 3
   },
   "file_extension": ".py",
   "mimetype": "text/x-python",
   "name": "python",
   "nbconvert_exporter": "python",
   "pygments_lexer": "ipython3",
   "version": "3.13.1"
  }
 },
 "nbformat": 4,
 "nbformat_minor": 2
}
