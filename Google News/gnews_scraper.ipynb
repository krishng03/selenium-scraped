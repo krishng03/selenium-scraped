{
 "cells": [
  {
   "cell_type": "code",
   "execution_count": null,
   "metadata": {},
   "outputs": [],
   "source": [
    "%pip freeze"
   ]
  },
  {
   "cell_type": "code",
   "execution_count": null,
   "metadata": {},
   "outputs": [],
   "source": [
    "from selenium import webdriver\n",
    "from selenium.webdriver.common.by import By\n",
    "from selenium.webdriver.chrome.service import Service\n",
    "from selenium.webdriver.chrome.options import Options\n",
    "from selenium.webdriver.support.ui import WebDriverWait\n",
    "from selenium.webdriver.support import expected_conditions as EC\n",
    "from webdriver_manager.chrome import ChromeDriverManager"
   ]
  },
  {
   "cell_type": "code",
   "execution_count": null,
   "metadata": {},
   "outputs": [],
   "source": [
    "def setup_driver():\n",
    "    options = Options()\n",
    "    options.add_argument(\"--headless\")\n",
    "    options.add_argument(\"--disable-gpu\")\n",
    "    options.add_argument(\"--window-size=1920,1080\")\n",
    "    service = Service(ChromeDriverManager().install())\n",
    "    driver = webdriver.Chrome(service=service, options=options)\n",
    "    return driver"
   ]
  },
  {
   "cell_type": "code",
   "execution_count": 72,
   "metadata": {},
   "outputs": [],
   "source": [
    "BASE_URL = 'https://news.google.com/search?q='\n",
    "\n",
    "driver = setup_driver()"
   ]
  },
  {
   "cell_type": "code",
   "execution_count": 75,
   "metadata": {},
   "outputs": [],
   "source": [
    "def get_news_articles(query, limit=10):\n",
    "    query_param = query.replace(' ', '+')\n",
    "    driver.get(BASE_URL + query_param)\n",
    "    print('Searching for : ', query)\n",
    "    WebDriverWait(driver, 10).until(\n",
    "        EC.presence_of_element_located((By.TAG_NAME, 'article'))\n",
    "    )\n",
    "\n",
    "    DATA = []\n",
    "\n",
    "    articles = driver.find_elements(By.TAG_NAME, 'article')\n",
    "\n",
    "    for i in range(limit):\n",
    "        article = articles[i].find_elements(By.TAG_NAME, 'a')\n",
    "        article_heading = article[-1].text\n",
    "        article_url = article[-1].get_attribute('href')\n",
    "        article_source = articles[i].find_element(By.CSS_SELECTOR, 'div.vr1PYe').text\n",
    "        article_img_src = articles[i].find_elements(By.CSS_SELECTOR, 'img')[-1].get_attribute('src')\n",
    "        article_object = {\n",
    "            'query_param': query,\n",
    "            'article_name': article_heading,\n",
    "            'article_source': article_source,\n",
    "            'article_url': article_url,\n",
    "            'article_img_src': article_img_src\n",
    "        }\n",
    "        DATA.append(article_object)\n",
    "\n",
    "    return DATA"
   ]
  },
  {
   "cell_type": "code",
   "execution_count": 76,
   "metadata": {},
   "outputs": [
    {
     "name": "stdout",
     "output_type": "stream",
     "text": [
      "Searching for :  science & technology\n",
      "Searching for :  environment & nature\n",
      "Searching for :  comedy\n",
      "Searching for :  sports & entertainment\n",
      "Searching for :  education & career\n"
     ]
    }
   ],
   "source": [
    "queries = [\n",
    "    'science & technology',\n",
    "    'environment & nature',\n",
    "    'comedy',\n",
    "    'sports & entertainment',\n",
    "    'education & career'\n",
    "]\n",
    "\n",
    "article_data = []\n",
    "\n",
    "for query in queries:\n",
    "    article_data.extend(get_news_articles(query, limit=10))"
   ]
  },
  {
   "cell_type": "code",
   "execution_count": 77,
   "metadata": {},
   "outputs": [
    {
     "name": "stdout",
     "output_type": "stream",
     "text": [
      "JSON file saved successfully\n"
     ]
    }
   ],
   "source": [
    "import json\n",
    "\n",
    "JSON_FILE_NAME = 'gnews_articles.json'\n",
    "\n",
    "with open(JSON_FILE_NAME, 'w') as file:\n",
    "    json.dump(article_data, file, indent=2)\n",
    "\n",
    "print('JSON file saved successfully')"
   ]
  },
  {
   "cell_type": "code",
   "execution_count": 78,
   "metadata": {},
   "outputs": [
    {
     "name": "stdout",
     "output_type": "stream",
     "text": [
      "CSV file saved successfully\n"
     ]
    }
   ],
   "source": [
    "import pandas as pd\n",
    "\n",
    "CSV_FILE_NAME = 'gnews_articles.csv'\n",
    "\n",
    "df = pd.DataFrame(article_data)\n",
    "\n",
    "df.to_csv(CSV_FILE_NAME, index=False)\n",
    "\n",
    "print(\"CSV file saved successfully\")"
   ]
  },
  {
   "cell_type": "code",
   "execution_count": null,
   "metadata": {},
   "outputs": [],
   "source": []
  }
 ],
 "metadata": {
  "kernelspec": {
   "display_name": "venv",
   "language": "python",
   "name": "python3"
  },
  "language_info": {
   "codemirror_mode": {
    "name": "ipython",
    "version": 3
   },
   "file_extension": ".py",
   "mimetype": "text/x-python",
   "name": "python",
   "nbconvert_exporter": "python",
   "pygments_lexer": "ipython3",
   "version": "3.13.1"
  }
 },
 "nbformat": 4,
 "nbformat_minor": 2
}
